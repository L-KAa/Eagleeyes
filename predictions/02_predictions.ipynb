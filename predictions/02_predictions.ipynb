{
 "cells": [
  {
   "cell_type": "code",
   "execution_count": 1,
   "id": "6a0dd8ab-9e23-4427-92c3-2340576b3b78",
   "metadata": {},
   "outputs": [],
   "source": [
    "import cv2\n",
    "from yolo_predictions import YOLO_Pred"
   ]
  },
  {
   "cell_type": "code",
   "execution_count": 2,
   "id": "71fcf56e-a8f2-43b1-905b-d6c81383e0b9",
   "metadata": {},
   "outputs": [],
   "source": [
    "# Load YOLO model\n",
    "yolo = YOLO_Pred('./Model/weights/best.onnx', 'data.yaml')"
   ]
  },
  {
   "cell_type": "code",
   "execution_count": 3,
   "id": "f9c05dd9-a747-479e-ab4c-763e422a7ed8",
   "metadata": {},
   "outputs": [],
   "source": [
    "# Load image for prediction\n",
    "img = cv2.imread('./58ff9e33784a8_jpg.rf.22b4d62723cc88266e4b8ba0c3ba6a85.jpg')"
   ]
  },
  {
   "cell_type": "code",
   "execution_count": 4,
   "id": "7f56e4b4-b554-4e72-9ff3-318487657d62",
   "metadata": {},
   "outputs": [],
   "source": [
    "# Display original image\n",
    "cv2.imshow('Original Image', img)\n",
    "cv2.waitKey(0)\n",
    "cv2.destroyAllWindows()"
   ]
  },
  {
   "cell_type": "code",
   "execution_count": 5,
   "id": "f3317d39-746a-426e-8a47-916c8144b466",
   "metadata": {},
   "outputs": [],
   "source": [
    "# Perform prediction on image\n",
    "img_pred = yolo.predictions(img)"
   ]
  },
  {
   "cell_type": "code",
   "execution_count": 6,
   "id": "2d16af3a-cee1-4269-8a20-c7825b6ceca4",
   "metadata": {},
   "outputs": [],
   "source": [
    "# Display predicted image\n",
    "cv2.imshow('Prediction Image', img_pred)\n",
    "cv2.waitKey(0)\n",
    "cv2.destroyAllWindows()"
   ]
  },
  {
   "cell_type": "code",
   "execution_count": 7,
   "id": "9b0d5a6b-0e42-4056-a9a4-e0cf0b842b03",
   "metadata": {},
   "outputs": [],
   "source": [
    "### 🔴 Realtime Video Detection\n",
    "cap = cv2.VideoCapture('video.mp4')  # ✅ Corrected capitalization"
   ]
  },
  {
   "cell_type": "code",
   "execution_count": 8,
   "id": "c992b337-7702-40ac-acd7-639e74b1bab0",
   "metadata": {},
   "outputs": [],
   "source": [
    "while True:\n",
    "    ret, frame = cap.read()  # ✅ Removed incorrect colon\n",
    "\n",
    "    if not ret:  # ✅ Corrected condition\n",
    "        print('Unable to read video')\n",
    "        break\n",
    "\n",
    "    # Perform YOLO prediction\n",
    "    pred_image = yolo.predictions(frame)\n",
    "    \n",
    "    # Display prediction\n",
    "    cv2.imshow('YOLO Detection', pred_image)\n",
    "\n",
    "    # Press 'ESC' key to exit\n",
    "    if cv2.waitKey(1) == 27:\n",
    "        break\n",
    "\n",
    "# Cleanup\n",
    "cap.release()  # ✅ Fixed incorrect method name\n",
    "cv2.destroyAllWindows()"
   ]
  },
  {
   "cell_type": "code",
   "execution_count": 9,
   "id": "b557725f-fe46-44c1-9d21-d7412cd12a72",
   "metadata": {},
   "outputs": [],
   "source": [
    "import cv2\n",
    "from yolo_predictions import YOLO_Pred\n",
    "\n",
    "# Load YOLO model\n",
    "try:\n",
    "    yolo = YOLO_Pred('./Model/weights/best.onnx', 'data.yaml')\n",
    "except Exception as e:\n",
    "    print(f\"Error loading YOLO model: {e}\")\n",
    "    exit(1)\n",
    "\n",
    "# Open webcam (0 = default, 1 = external camera)\n",
    "cap = cv2.VideoCapture(0)\n",
    "\n",
    "# Ensure the webcam opened successfully\n",
    "if not cap.isOpened():\n",
    "    print(\"Error: Could not open webcam\")\n",
    "    exit(1)\n",
    "\n",
    "# Set resolution (optional)\n",
    "cap.set(cv2.CAP_PROP_FRAME_WIDTH, 640)  \n",
    "cap.set(cv2.CAP_PROP_FRAME_HEIGHT, 480)\n",
    "\n",
    "while True:\n",
    "    ret, frame = cap.read()  # Read frame from webcam\n",
    "\n",
    "    if not ret:\n",
    "        print('Unable to read frame from webcam, retrying...')\n",
    "        continue  # Retry instead of breaking immediately\n",
    "\n",
    "    # Resize frame to match YOLO input size if necessary (e.g., 640x640)\n",
    "    frame_resized = cv2.resize(frame, (640, 640))\n",
    "\n",
    "    try:\n",
    "        # Perform YOLO prediction\n",
    "        pred_image = yolo.predictions(frame_resized)\n",
    "    except Exception as e:\n",
    "        print(f\"Error during YOLO prediction: {e}\")\n",
    "        break  # Stop loop if YOLO fails\n",
    "\n",
    "    # Display output\n",
    "    cv2.imshow('YOLO Webcam Detection', pred_image)\n",
    "\n",
    "    # Press 'ESC' to exit\n",
    "    if cv2.waitKey(1) == 27:\n",
    "        break\n",
    "\n",
    "# Cleanup\n",
    "cap.release()\n",
    "cv2.destroyAllWindows()\n"
   ]
  },
  {
   "cell_type": "code",
   "execution_count": null,
   "id": "5b711642-d63f-4d85-b1d4-8154b48d3e0b",
   "metadata": {},
   "outputs": [],
   "source": []
  }
 ],
 "metadata": {
  "kernelspec": {
   "display_name": "Python 3 (ipykernel)",
   "language": "python",
   "name": "python3"
  },
  "language_info": {
   "codemirror_mode": {
    "name": "ipython",
    "version": 3
   },
   "file_extension": ".py",
   "mimetype": "text/x-python",
   "name": "python",
   "nbconvert_exporter": "python",
   "pygments_lexer": "ipython3",
   "version": "3.10.12"
  }
 },
 "nbformat": 4,
 "nbformat_minor": 5
}
